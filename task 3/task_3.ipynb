{
 "cells": [
  {
   "cell_type": "markdown",
   "id": "29b1ed30",
   "metadata": {},
   "source": [
    "# TASK 3- Image to Pencil sketch with python"
   ]
  },
  {
   "cell_type": "markdown",
   "id": "2ab4b931",
   "metadata": {},
   "source": [
    "# Submitted by - Rahul Sakharkar"
   ]
  },
  {
   "cell_type": "code",
   "execution_count": 1,
   "id": "f529a14a",
   "metadata": {
    "scrolled": true
   },
   "outputs": [
    {
     "name": "stdout",
     "output_type": "stream",
     "text": [
      "Collecting opencv-python\n",
      "  Downloading opencv_python-4.7.0.72-cp37-abi3-win_amd64.whl (38.2 MB)\n",
      "     ---------------------------------------- 38.2/38.2 MB 5.2 MB/s eta 0:00:00\n",
      "Requirement already satisfied: numpy>=1.19.3 in c:\\users\\acer\\anaconda3\\lib\\site-packages (from opencv-python) (1.21.5)\n",
      "Installing collected packages: opencv-python\n",
      "Successfully installed opencv-python-4.7.0.72\n",
      "Note: you may need to restart the kernel to use updated packages.\n"
     ]
    }
   ],
   "source": [
    "#installing opencv\n",
    "pip install opencv-python"
   ]
  },
  {
   "cell_type": "code",
   "execution_count": 1,
   "id": "ecf8f62f",
   "metadata": {},
   "outputs": [],
   "source": [
    "#importing module\n",
    "import cv2"
   ]
  },
  {
   "cell_type": "code",
   "execution_count": 2,
   "id": "29665a54",
   "metadata": {},
   "outputs": [],
   "source": [
    "img = cv2.imread(\"flower.jpeg\")"
   ]
  },
  {
   "cell_type": "code",
   "execution_count": 3,
   "id": "eb392e4b",
   "metadata": {},
   "outputs": [],
   "source": [
    "#converting to grayscale\n",
    "gray_image = cv2.cvtColor(img, cv2.COLOR_BGR2GRAY)"
   ]
  },
  {
   "cell_type": "code",
   "execution_count": 4,
   "id": "64799d9e",
   "metadata": {},
   "outputs": [],
   "source": [
    "# inverting the grayscale\n",
    "inverted_gray_image = 255 - gray_image"
   ]
  },
  {
   "cell_type": "code",
   "execution_count": 5,
   "id": "d74b46e0",
   "metadata": {},
   "outputs": [],
   "source": [
    "# mixing grayscale with inverted blurry image\n",
    "blurred_image = cv2.GaussianBlur(inverted_gray_image, (21, 21), 0)"
   ]
  },
  {
   "cell_type": "code",
   "execution_count": 6,
   "id": "caf7cc11",
   "metadata": {},
   "outputs": [],
   "source": [
    "inverted_blurred_image = 255 - blurred_image"
   ]
  },
  {
   "cell_type": "code",
   "execution_count": 7,
   "id": "a3cad4e9",
   "metadata": {},
   "outputs": [],
   "source": [
    "pencil_sketch_image = cv2.divide(gray_image, inverted_blurred_image, scale = 256.0)"
   ]
  },
  {
   "cell_type": "code",
   "execution_count": 12,
   "id": "3c451dea",
   "metadata": {},
   "outputs": [],
   "source": [
    "# displaying the original image\n",
    "cv2.imshow('Original Image', img)\n"
   ]
  },
  {
   "cell_type": "code",
   "execution_count": 13,
   "id": "d20899c4",
   "metadata": {},
   "outputs": [],
   "source": [
    "# displaying the created pencil sketch\n",
    "cv2.imshow('New Image', pencil_sketch_image)"
   ]
  },
  {
   "cell_type": "code",
   "execution_count": 14,
   "id": "3b2c6c17",
   "metadata": {},
   "outputs": [
    {
     "data": {
      "text/plain": [
       "-1"
      ]
     },
     "execution_count": 14,
     "metadata": {},
     "output_type": "execute_result"
    }
   ],
   "source": [
    "cv2.waitKey(0)"
   ]
  },
  {
   "cell_type": "code",
   "execution_count": null,
   "id": "5cb5bbfa",
   "metadata": {},
   "outputs": [],
   "source": []
  }
 ],
 "metadata": {
  "kernelspec": {
   "display_name": "Python 3 (ipykernel)",
   "language": "python",
   "name": "python3"
  },
  "language_info": {
   "codemirror_mode": {
    "name": "ipython",
    "version": 3
   },
   "file_extension": ".py",
   "mimetype": "text/x-python",
   "name": "python",
   "nbconvert_exporter": "python",
   "pygments_lexer": "ipython3",
   "version": "3.9.13"
  }
 },
 "nbformat": 4,
 "nbformat_minor": 5
}
